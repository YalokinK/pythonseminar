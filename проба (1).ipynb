{
 "cells": [
  {
   "cell_type": "markdown",
   "id": "1e3a6f08-c05f-4da9-8a38-1263d1fdb364",
   "metadata": {},
   "source": [
    "## Семинар 1"
   ]
  },
  {
   "cell_type": "markdown",
   "id": "c5c0ff5d-7dd7-4de3-a715-c22be1d60b56",
   "metadata": {},
   "source": [
    "# Задание 1"
   ]
  },
  {
   "cell_type": "markdown",
   "id": "4f44b23e-e968-42d7-8a60-fb6381792095",
   "metadata": {},
   "source": [
    "1. Из колоды в 52 карты извлекаются случайным образом 4 карты. a) Найти вероятность того, что все карты – крести. б) Найти вероятность, что среди 4-х карт окажется хотя бы один туз"
   ]
  },
  {
   "cell_type": "markdown",
   "id": "ae44f9df-47e8-4fa7-96dc-127221dae51a",
   "metadata": {},
   "source": [
    "Задание a расчитаем по формуле сочетания. P = m / n; Число всех возможных исходов: n = 52! // 4! * 48! Число благоприятных исходов: m = 13! // 4! * 9! Итог: P = 0,00264105642"
   ]
  },
  {
   "cell_type": "code",
   "execution_count": 2,
   "id": "46913081-c7a2-43bf-b0f3-a8b3326255a1",
   "metadata": {},
   "outputs": [],
   "source": [
    "import numpy as np\n",
    "from math import factorial as fc\n",
    "from fractions import Fraction"
   ]
  },
  {
   "cell_type": "code",
   "execution_count": 3,
   "id": "ccf3e56d-8b86-4427-b77d-58b929fe3f0d",
   "metadata": {},
   "outputs": [
    {
     "name": "stdout",
     "output_type": "stream",
     "text": [
      "0.0026410564225690276\n"
     ]
    }
   ],
   "source": [
    "def a(n,k):\n",
    "    return fc(n)//(fc(k) * fc(n-k))\n",
    "print(a(13,4)/a(52,4))"
   ]
  },
  {
   "cell_type": "markdown",
   "id": "763aefcb-a343-43b9-91ba-ff0758349cb0",
   "metadata": {},
   "source": [
    "b) Число всех возможных исходов: n = 52! // 4! * 48! = 270725\n",
    "    Число благоприятных исходов: m = 4!/(1! * 3!) * 48!/(3! * 45!) = 69184\n",
    "    Итог: вероятность, что будет 1 туз 0,255550836"
   ]
  },
  {
   "cell_type": "code",
   "execution_count": 5,
   "id": "5aa043e8-8949-4b0d-83c6-44b240b1366c",
   "metadata": {},
   "outputs": [
    {
     "name": "stdout",
     "output_type": "stream",
     "text": [
      "0.25555083571890297\n"
     ]
    }
   ],
   "source": [
    "print((a(4,1) * a(48,3))/a(52,4))"
   ]
  },
  {
   "cell_type": "markdown",
   "id": "8866e40c-86d8-443d-83b5-e0bb65f46d20",
   "metadata": {},
   "source": [
    "# Задание 2"
   ]
  },
  {
   "cell_type": "markdown",
   "id": "f93d164f-657d-4e44-a512-618f257ceeb6",
   "metadata": {},
   "source": [
    "2. На входной двери подъезда установлен кодовый замок, содержащий десять кнопок с цифрами от 0 до 9. Код содержит три цифры, которые нужно нажать одновременно. Какова вероятность того, что человек, не знающий код, откроет дверь с первой попытки?"
   ]
  },
  {
   "cell_type": "markdown",
   "id": "e39d7fc5-08d7-46b7-a854-6350a66645ee",
   "metadata": {},
   "source": [
    "Решение:\n",
    "\n",
    "P = m/n Используем формулу сочетания. Число всех возможных исходов: 10!//(3! * 7!) = 8 * 9 * 10//2 * 3 = 120 Ответ: Вероятность 1/120 или 0,00833333333"
   ]
  },
  {
   "cell_type": "code",
   "execution_count": 6,
   "id": "0f12e6be-ba1b-4bc4-a558-97d3ecb22c4d",
   "metadata": {},
   "outputs": [
    {
     "name": "stdout",
     "output_type": "stream",
     "text": [
      "0.008333333333333333\n"
     ]
    }
   ],
   "source": [
    "print(a(3,3)/a(10,3))"
   ]
  },
  {
   "cell_type": "markdown",
   "id": "535aab76-7312-4042-909f-7c0434c7238d",
   "metadata": {},
   "source": [
    "# Задание 3"
   ]
  },
  {
   "cell_type": "markdown",
   "id": "8fa15ea3-8cad-4e5f-87ce-74d111473a0b",
   "metadata": {},
   "source": [
    "3. В ящике имеется 15 деталей, из которых 9 окрашены. Рабочий случайным образом извлекает 3 детали. Какова вероятность того, что все извлеченные детали окрашены?"
   ]
  },
  {
   "cell_type": "markdown",
   "id": "c1bda362-3f5b-46f4-9e21-378ad4c5bd15",
   "metadata": {},
   "source": [
    "Решение:"
   ]
  },
  {
   "cell_type": "markdown",
   "id": "eb633420-7063-4626-8e10-30785859585f",
   "metadata": {},
   "source": [
    "\n",
    "Число всех возможных исходов: 15!//(3! * 12!)= 455. \n",
    "    Число благоприятных исходов: 9!//(3! * 6!) = 84.\n",
    "        Ответ: вероятность 84/455 = 0,184615385"
   ]
  },
  {
   "cell_type": "code",
   "execution_count": 7,
   "id": "d933403a-39af-4de3-a95c-f4f351ba2e72",
   "metadata": {},
   "outputs": [
    {
     "name": "stdout",
     "output_type": "stream",
     "text": [
      "0.18461538461538463\n"
     ]
    }
   ],
   "source": [
    "print(a(9,3)/a(15,3))"
   ]
  },
  {
   "cell_type": "markdown",
   "id": "56a8515d-938b-4eb0-b3cd-0945f7270dae",
   "metadata": {},
   "source": [
    "# Задание 4"
   ]
  },
  {
   "cell_type": "markdown",
   "id": "fd3b8cd2-d0f7-4fd3-bb36-a0bc45c30033",
   "metadata": {},
   "source": [
    "4. В лотерее 100 билетов. Из них 2 выигрышных. Какова вероятность того, что 2 приобретенных билета окажутся выигрышными?"
   ]
  },
  {
   "cell_type": "markdown",
   "id": "cab92bd3-4135-41dc-aafd-6dcdbf3ac550",
   "metadata": {},
   "source": [
    "P = m/n. Используем формулу сочетания. Число всех возможных исходов: 100!//2! * 98! = 99 * 100// 2 =4950. Число благоприятных исходов: 1 Ответ: вероятность 1/4950 или 0,000202020202"
   ]
  },
  {
   "cell_type": "code",
   "execution_count": 9,
   "id": "ec753133-df43-4c0c-afcc-34e11a0b8bd2",
   "metadata": {},
   "outputs": [
    {
     "name": "stdout",
     "output_type": "stream",
     "text": [
      "0.00020202020202020202\n"
     ]
    }
   ],
   "source": [
    "print(a(2,2)/a(100,2))"
   ]
  },
  {
   "cell_type": "code",
   "execution_count": null,
   "id": "7055dbf5-6242-46b7-89a0-704a2d149b9f",
   "metadata": {},
   "outputs": [],
   "source": []
  }
 ],
 "metadata": {
  "kernelspec": {
   "display_name": "anaconda-2022.05-py39",
   "language": "python",
   "name": "conda-env-anaconda-2022.05-py39-py"
  },
  "language_info": {
   "codemirror_mode": {
    "name": "ipython",
    "version": 3
   },
   "file_extension": ".py",
   "mimetype": "text/x-python",
   "name": "python",
   "nbconvert_exporter": "python",
   "pygments_lexer": "ipython3",
   "version": "3.9.12"
  }
 },
 "nbformat": 4,
 "nbformat_minor": 5
}
